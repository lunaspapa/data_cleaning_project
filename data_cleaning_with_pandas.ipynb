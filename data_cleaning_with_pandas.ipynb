{
 "cells": [
  {
   "cell_type": "code",
   "execution_count": 1,
   "id": "4ac6efdc-5e0b-44d6-9f56-b7caf20b4c96",
   "metadata": {},
   "outputs": [],
   "source": [
    "import pandas as pd\n",
    "import os"
   ]
  },
  {
   "cell_type": "code",
   "execution_count": 2,
   "id": "9d5a5394-513a-433d-8c2b-1fa16d3b7373",
   "metadata": {
    "scrolled": true
   },
   "outputs": [],
   "source": [
    "path = (r'/home/luis/data_portfolio_projects/data_cleaning/cust_call_list.xlsx')\n",
    "xl = pd.read_excel(path)"
   ]
  },
  {
   "cell_type": "code",
   "execution_count": 3,
   "id": "07c26035-8841-4d5c-aa68-2cc0194b43d1",
   "metadata": {},
   "outputs": [],
   "source": [
    "# What do I notice about the data?\n",
    "# Duplicate data\n",
    "# Some columns could be split to broaden the data analysis (Address)\n",
    "# Names contain unnecessary characters\n",
    "# Phone numbers are not standardized\n",
    "# Some missing data\n",
    "# 0/1 Answers are not standardized\n",
    "# Unnecessary column\n",
    "# Goal of dataset is to produce a list of customers to call"
   ]
  },
  {
   "cell_type": "code",
   "execution_count": 4,
   "id": "fe44ecbb-0619-42e1-b755-e139fded97e8",
   "metadata": {},
   "outputs": [],
   "source": [
    "# Drop duplicates\n",
    "xl = xl.drop_duplicates()"
   ]
  },
  {
   "cell_type": "code",
   "execution_count": 5,
   "id": "e070c92e-ced6-4c9c-8487-826fbeee965d",
   "metadata": {},
   "outputs": [],
   "source": [
    "# Remove Columns we don't need (don't wanna clean data I'm not using)\n",
    "xl = xl.drop(columns = 'Not_Useful_Column')"
   ]
  },
  {
   "cell_type": "code",
   "execution_count": 6,
   "id": "4416c722-5e1f-4a84-aa28-82c6321ea83a",
   "metadata": {},
   "outputs": [],
   "source": [
    "# Remove bad characters from Last Name column\n",
    "xl['Last_Name'] = xl['Last_Name'].str.strip(\"123./_?\")"
   ]
  },
  {
   "cell_type": "code",
   "execution_count": 7,
   "id": "010eb36d-abff-4346-9552-dc816d7e3640",
   "metadata": {},
   "outputs": [],
   "source": [
    "# Clean and standardize phone numbers\n",
    "xl['Phone_Number'] = xl['Phone_Number'].str.replace('[^a-zA-Z0-9]', '', regex=True) # Use replace + regex to remove extra characters\n",
    "xl['Phone_Number'] = xl['Phone_Number'].apply(lambda x: str(x)[0:3] + '-' + str(x)[3:6] + '-' + str(x)[6:10]) # Use lamda to create a consistent format across all phone numbers\n",
    "xl['Phone_Number'] = xl['Phone_Number'].str.replace('nan--', '') # Remove unavailable values\n",
    "xl['Phone_Number'] = xl['Phone_Number'].str.replace('Na--', '')"
   ]
  },
  {
   "cell_type": "code",
   "execution_count": 8,
   "id": "3653ccab-9030-44f4-8b46-689f1e72b028",
   "metadata": {},
   "outputs": [],
   "source": [
    "# Split Address Into Multiple Columns\n",
    "xl[['Street_Address', 'State', 'Zip_Code']] = xl['Address'].str.split(',', n=2, expand=True)"
   ]
  },
  {
   "cell_type": "code",
   "execution_count": 9,
   "id": "cbfa5f9e-3fad-4484-9f2c-0fd2ccd435e4",
   "metadata": {},
   "outputs": [],
   "source": [
    "# Standardize Paying Customer, Do Not Contact columns\n",
    "xl['Paying Customer'] = xl['Paying Customer'].str.replace('Yes', 'Y')\n",
    "xl['Paying Customer'] = xl['Paying Customer'].str.replace('No', 'N')\n",
    "xl['Do_Not_Contact'] = xl['Do_Not_Contact'].str.replace('Yes', 'Y')\n",
    "xl['Do_Not_Contact'] = xl['Do_Not_Contact'].str.replace('No', 'N')"
   ]
  },
  {
   "cell_type": "code",
   "execution_count": 10,
   "id": "5e25f736-8666-43d0-8510-c9a3e4baa287",
   "metadata": {},
   "outputs": [
    {
     "ename": "NameError",
     "evalue": "name 'df' is not defined",
     "output_type": "error",
     "traceback": [
      "\u001b[0;31m---------------------------------------------------------------------------\u001b[0m",
      "\u001b[0;31mNameError\u001b[0m                                 Traceback (most recent call last)",
      "Cell \u001b[0;32mIn[10], line 2\u001b[0m\n\u001b[1;32m      1\u001b[0m \u001b[38;5;66;03m# Filling blank values\u001b[39;00m\n\u001b[0;32m----> 2\u001b[0m \u001b[43mdf\u001b[49m\u001b[38;5;241m.\u001b[39mfillna(\u001b[38;5;124m'\u001b[39m\u001b[38;5;124m'\u001b[39m)\n",
      "\u001b[0;31mNameError\u001b[0m: name 'df' is not defined"
     ]
    }
   ],
   "source": [
    "# Filling blank values\n",
    "xl.fillna('')"
   ]
  }
 ],
 "metadata": {
  "kernelspec": {
   "display_name": "Python 3 (ipykernel)",
   "language": "python",
   "name": "python3"
  },
  "language_info": {
   "codemirror_mode": {
    "name": "ipython",
    "version": 3
   },
   "file_extension": ".py",
   "mimetype": "text/x-python",
   "name": "python",
   "nbconvert_exporter": "python",
   "pygments_lexer": "ipython3",
   "version": "3.9.4"
  }
 },
 "nbformat": 4,
 "nbformat_minor": 5
}
